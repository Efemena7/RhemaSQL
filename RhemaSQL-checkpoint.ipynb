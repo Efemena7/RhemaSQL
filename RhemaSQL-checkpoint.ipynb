{
 "cells": [
  {
   "cell_type": "markdown",
   "id": "0e3d7bd9",
   "metadata": {},
   "source": [
    "# INCREMENT"
   ]
  },
  {
   "cell_type": "code",
   "execution_count": 1,
   "id": "536857b2",
   "metadata": {},
   "outputs": [],
   "source": [
    "import sqlite3 as sqlite"
   ]
  },
  {
   "cell_type": "code",
   "execution_count": 15,
   "id": "2e54ef56",
   "metadata": {},
   "outputs": [],
   "source": [
    "master=sqlite.connect(\"Student_Results.db\")\n",
    "master.execute('''CREATE TABLE IF NOT EXISTS Result(\n",
    "       ID INTEGER PRIMARY KEY AUTOINCREMENT,\n",
    "       NAME TEXT NOT NULL,\n",
    "       MATHS INT NOT NULL,\n",
    "       ENGLISH INT NOT NULL,\n",
    "       BIOLOGY INT NOT NULL,\n",
    "       PHYSICS INT NOT NULL,\n",
    "       CHEMISTRY INT NOT NULL)''')\n",
    "master.close()"
   ]
  },
  {
   "cell_type": "code",
   "execution_count": 18,
   "id": "95a42e56",
   "metadata": {},
   "outputs": [],
   "source": [
    "master=sqlite.connect(\"Student_Results.db\")\n",
    "master.execute('''INSERT INTO Result(ID,NAME,MATHS,ENGLISH,BIOLOGY,PHYSICS,CHEMISTRY)\n",
    "       VALUES(1,\"James\",50,82,69,72,60)''')\n",
    "master.commit()\n",
    "master.close()"
   ]
  },
  {
   "cell_type": "code",
   "execution_count": 19,
   "id": "2600e0e5",
   "metadata": {},
   "outputs": [],
   "source": [
    "master=sqlite.connect(\"Student_Results.db\")\n",
    "master.execute('''INSERT INTO Result(ID,NAME,MATHS,ENGLISH,BIOLOGY,PHYSICS,CHEMISTRY)\n",
    "       VALUES(2,\"Jane\",80,91,60,42,69)''')\n",
    "master.commit()\n",
    "master.close()"
   ]
  },
  {
   "cell_type": "code",
   "execution_count": 27,
   "id": "bb3d8270",
   "metadata": {},
   "outputs": [],
   "source": [
    "master=sqlite.connect(\"Student_Results.db\")\n",
    "def student_(ID,NAME,MATHS,ENGLISH,BIOLOGY,PHYSICS,CHEMISTRY):\n",
    "    master.execute('''INSERT INTO Result(ID,NAME,MATHS,ENGLISH,BIOLOGY,PHYSICS,CHEMISTRY)\n",
    "        VALUES(?,?,?,?,?,?,?)''',(ID,NAME,MATHS,ENGLISH,BIOLOGY,PHYSICS,CHEMISTRY))\n",
    "    master.commit()\n",
    "student_(3,\"Amadi\",23,61,60,70,59)\n",
    "master.close()"
   ]
  },
  {
   "cell_type": "code",
   "execution_count": 29,
   "id": "cd5ebd11",
   "metadata": {},
   "outputs": [
    {
     "name": "stdout",
     "output_type": "stream",
     "text": [
      "(1, 'James', 50, 82, 69, 72, 60)\n",
      "(2, 'Jane', 80, 91, 60, 42, 69)\n",
      "(3, 'Amadi', 23, 61, 60, 70, 59)\n"
     ]
    }
   ],
   "source": [
    "master=sqlite.connect(\"Student_Results.db\")\n",
    "curs=master.cursor()\n",
    "content=master.execute(\"SELECT* FROM Result\")\n",
    "for record in content:\n",
    "    print(record)\n",
    "master.close()"
   ]
  },
  {
   "cell_type": "markdown",
   "id": "2aa7b835",
   "metadata": {},
   "source": [
    "# READ"
   ]
  },
  {
   "cell_type": "code",
   "execution_count": 39,
   "id": "19782727",
   "metadata": {},
   "outputs": [
    {
     "name": "stdout",
     "output_type": "stream",
     "text": [
      "ID: 1\n",
      "ID: 2\n",
      "ID: 3\n"
     ]
    }
   ],
   "source": [
    "master=sqlite.connect(\"Student_Results.db\")\n",
    "def read_result_():\n",
    "    rizz=master.execute('''SELECT * FROM Result''')\n",
    "    for record in rizz:\n",
    "        print(f\"ID: {record[0]}\")\n",
    "read_result_()\n",
    "master.close()"
   ]
  },
  {
   "cell_type": "code",
   "execution_count": 45,
   "id": "3957e7af",
   "metadata": {},
   "outputs": [
    {
     "name": "stdout",
     "output_type": "stream",
     "text": [
      "ID:1\n",
      "Name:James\n",
      "Maths:50\n",
      "English:82\n",
      "Biology:69\n",
      "Physics:72\n",
      "chemistery:60\n",
      "\n",
      "ID:2\n",
      "Name:Jane\n",
      "Maths:80\n",
      "English:91\n",
      "Biology:60\n",
      "Physics:42\n",
      "chemistery:69\n",
      "\n",
      "ID:3\n",
      "Name:Amadi\n",
      "Maths:23\n",
      "English:61\n",
      "Biology:60\n",
      "Physics:70\n",
      "chemistery:59\n",
      "\n"
     ]
    }
   ],
   "source": [
    "master=sqlite.connect(\"Student_Results.db\")\n",
    "def read_result_():\n",
    "    rizz=master.execute('''SELECT * FROM Result''')\n",
    "    for record in rizz:\n",
    "        print(f\"ID:{record[0]}\\nName:{record[1]}\\nMaths:{record[2]}\\nEnglish:{record[3]}\\nBiology:{record[4]}\\nPhysics:{record[5]}\\nchemistery:{record[6]}\\n\")\n",
    "read_result_()\n",
    "master.close()"
   ]
  },
  {
   "cell_type": "markdown",
   "id": "780948c4",
   "metadata": {},
   "source": [
    "# UPDATE"
   ]
  },
  {
   "cell_type": "code",
   "execution_count": 46,
   "id": "5816aacc",
   "metadata": {},
   "outputs": [
    {
     "name": "stdout",
     "output_type": "stream",
     "text": [
      "ID:1\n",
      "Name:James\n",
      "Maths:50\n",
      "English:82\n",
      "Biology:69\n",
      "Physics:72\n",
      "chemistery:60\n",
      "\n",
      "ID:2\n",
      "Name:Jane\n",
      "Maths:80\n",
      "English:91\n",
      "Biology:60\n",
      "Physics:42\n",
      "chemistery:69\n",
      "\n",
      "ID:3\n",
      "Name:Mike\n",
      "Maths:23\n",
      "English:61\n",
      "Biology:60\n",
      "Physics:70\n",
      "chemistery:59\n",
      "\n"
     ]
    }
   ],
   "source": [
    "master=sqlite.connect(\"Student_Results.db\")\n",
    "def update_result():\n",
    "    master.execute('''UPDATE Result set NAME=\"Mike\" WHERE ID=3''')\n",
    "    master.commit()\n",
    "update_result()\n",
    "read_result_()\n",
    "master.close()"
   ]
  },
  {
   "cell_type": "code",
   "execution_count": 47,
   "id": "9cae9185",
   "metadata": {},
   "outputs": [
    {
     "name": "stdout",
     "output_type": "stream",
     "text": [
      "ID:1\n",
      "Name:James\n",
      "Maths:90\n",
      "English:82\n",
      "Biology:69\n",
      "Physics:72\n",
      "chemistery:60\n",
      "\n",
      "ID:2\n",
      "Name:Jane\n",
      "Maths:80\n",
      "English:91\n",
      "Biology:60\n",
      "Physics:42\n",
      "chemistery:69\n",
      "\n",
      "ID:3\n",
      "Name:Mike\n",
      "Maths:23\n",
      "English:61\n",
      "Biology:60\n",
      "Physics:70\n",
      "chemistery:59\n",
      "\n"
     ]
    }
   ],
   "source": [
    "master=sqlite.connect(\"Student_Results.db\")\n",
    "def update_result():\n",
    "    master.execute('''UPDATE Result set MATHS=90 WHERE ID=1''')\n",
    "    master.commit()\n",
    "update_result()\n",
    "read_result_()\n",
    "master.close()"
   ]
  },
  {
   "cell_type": "markdown",
   "id": "42d39923",
   "metadata": {},
   "source": [
    "# DELETE"
   ]
  },
  {
   "cell_type": "code",
   "execution_count": 48,
   "id": "6e3c0040",
   "metadata": {},
   "outputs": [
    {
     "name": "stdout",
     "output_type": "stream",
     "text": [
      "ID:2\n",
      "Name:Jane\n",
      "Maths:80\n",
      "English:91\n",
      "Biology:60\n",
      "Physics:42\n",
      "chemistery:69\n",
      "\n",
      "ID:3\n",
      "Name:Mike\n",
      "Maths:23\n",
      "English:61\n",
      "Biology:60\n",
      "Physics:70\n",
      "chemistery:59\n",
      "\n"
     ]
    }
   ],
   "source": [
    "master=sqlite.connect(\"Student_Results.db\")\n",
    "def delete_result():\n",
    "    master.execute('''DELETE FROM Result WHERE ID=1''')\n",
    "    master.commit()\n",
    "delete_result()\n",
    "read_result_()\n",
    "master.close()"
   ]
  },
  {
   "cell_type": "code",
   "execution_count": null,
   "id": "212b1934",
   "metadata": {},
   "outputs": [],
   "source": []
  }
 ],
 "metadata": {
  "kernelspec": {
   "display_name": "Python 3 (ipykernel)",
   "language": "python",
   "name": "python3"
  },
  "language_info": {
   "codemirror_mode": {
    "name": "ipython",
    "version": 3
   },
   "file_extension": ".py",
   "mimetype": "text/x-python",
   "name": "python",
   "nbconvert_exporter": "python",
   "pygments_lexer": "ipython3",
   "version": "3.9.12"
  }
 },
 "nbformat": 4,
 "nbformat_minor": 5
}
